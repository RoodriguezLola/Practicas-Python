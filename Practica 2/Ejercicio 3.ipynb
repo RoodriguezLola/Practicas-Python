{
 "cells": [
  {
   "cell_type": "markdown",
   "metadata": {},
   "source": [
    "Enunciado:\n",
    "\n",
    "3. Dado el siguiente texto guardado en la varible jupyter_info, solicite por teclado una letra e imprima las palabras\n",
    "  que contengan dicha letra. \n",
    "  En caso que no se haya\n",
    "  ingresado un letra, indique el error. Ver: módulo string\n"
   ]
  },
  {
   "cell_type": "code",
   "execution_count": 1,
   "metadata": {},
   "outputs": [],
   "source": [
    "jupyter_info = \"\"\" JupyterLab is a web-based interactive development\n",
    "environment for Jupyter notebooks, code, and data. JupyterLab is\n",
    "flexible: configure and arrange the user interface to support a wide\n",
    "range of workflows in data science, scientific computing, and machine\n",
    "learning. JupyterLab is extensible and modular: write plugins that add\n",
    "new components and integrate with existing ones. \"\"\""
   ]
  },
  {
   "cell_type": "code",
   "execution_count": 2,
   "metadata": {},
   "outputs": [],
   "source": [
    "#Elimino los caracteres especiales\n",
    "character_special= [',' , ':' , ';' , ' \\\" ', '.', '-', '/']\n",
    "for character in character_special:\n",
    "    jupyter_info= jupyter_info.replace(character, '')"
   ]
  },
  {
   "cell_type": "code",
   "execution_count": null,
   "metadata": {},
   "outputs": [],
   "source": [
    "import string\n",
    "\n",
    "words= jupyter_info.split()\n",
    "\n",
    "letter= input('Ingrese una letra: ').lower()\n",
    "if(letter not in string.ascii_letters):\n",
    "    print('Error: no ingreso una letra')\n",
    "else:\n",
    "    print(f'Las palabras en las que aparece la letra {letter} son: ')\n",
    "    for word in words:\n",
    "        if(letter in word.lower()):\n",
    "            print(word)   "
   ]
  }
 ],
 "metadata": {
  "kernelspec": {
   "display_name": "Python 3 (ipykernel)",
   "language": "python",
   "name": "python3"
  },
  "language_info": {
   "codemirror_mode": {
    "name": "ipython",
    "version": 3
   },
   "file_extension": ".py",
   "mimetype": "text/x-python",
   "name": "python",
   "nbconvert_exporter": "python",
   "pygments_lexer": "ipython3",
   "version": "3.11.7"
  }
 },
 "nbformat": 4,
 "nbformat_minor": 4
}
