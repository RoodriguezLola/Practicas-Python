{
 "cells": [
  {
   "cell_type": "markdown",
   "metadata": {},
   "source": [
    "Enunciado: \n",
    "\n",
    "4. Dado el siguiente código que informa si la letra a se encuentra en una palabra\n",
    "ingresada por teclado:\n",
    "\n",
    "    Si ahora queremos saber si contiene la letra a y también la letra n, ¿cómo lo\n",
    "    modificamos?"
   ]
  },
  {
   "cell_type": "code",
   "execution_count": 2,
   "metadata": {},
   "outputs": [
    {
     "name": "stdout",
     "output_type": "stream",
     "text": [
      "No hay letras a, ni letras n. \n"
     ]
    }
   ],
   "source": [
    "word = input(\"Ingresá una palabra: \")\n",
    "if (\"a\" and \"n\" in word):\n",
    "    print(\"Hay al menos una letra a y una letra n.\")\n",
    "elif(\"a\" in word):\n",
    "    print(\"Hay al menos una letra a, pero no hay letras n.\")\n",
    "elif (\"n\" in word):\n",
    "    print(\"Hay al menos una letra n, pero no hay letras a.\")\n",
    "else:\n",
    "    print(\"No hay letras a, ni letras n. \")"
   ]
  }
 ],
 "metadata": {
  "kernelspec": {
   "display_name": "venv",
   "language": "python",
   "name": "python3"
  },
  "language_info": {
   "codemirror_mode": {
    "name": "ipython",
    "version": 3
   },
   "file_extension": ".py",
   "mimetype": "text/x-python",
   "name": "python",
   "nbconvert_exporter": "python",
   "pygments_lexer": "ipython3",
   "version": "3.11.7"
  }
 },
 "nbformat": 4,
 "nbformat_minor": 2
}
