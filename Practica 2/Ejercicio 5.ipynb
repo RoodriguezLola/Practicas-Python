{
 "cells": [
  {
   "cell_type": "markdown",
   "metadata": {},
   "source": [
    "Enunciado: \n",
    "\n",
    "5. Para la aceptación de un artículo en un congreso se definen las siguientes\n",
    "especificaciones que deben cumplir y recomendaciones de escritura:\n",
    "Dado un artículo en formato string, defina si cumple las especificaciones del título y\n",
    "cuántas oraciones tiene de cada categoría. El formato estándar en que recibe el string\n",
    "tiene la siguiente forma"
   ]
  },
  {
   "cell_type": "code",
   "execution_count": 39,
   "metadata": {},
   "outputs": [],
   "source": [
    "article = \"\"\" título: Experiences in Developing a Distributed Agen-\n",
    "based Modeling Toolkit with Python Version 3\n",
    "resumen: Distributed agent-based modeling (ABM) on high-performance\n",
    "computing resources provides the promise of capturing unprecedented\n",
    "details of large-scale complex systems. However, the specialized\n",
    "knowledge required for developing such ABMs creates barriers to wider\n",
    "adoption and utilization. Here we present our experiences in\n",
    "developing an initial implementation of Repast4Py, a Python-based\n",
    "distributed ABM toolkit. We build on our experiences in developing ABM\n",
    "toolkits, including Repast for High Performance Computing (Repast\n",
    "HPC), to identify the key elements of a useful distributed ABM\n",
    "toolkit. We leverage the Numba, NumPy, and PyTorch packages and the \n",
    "Python C-API to create a scalable modeling system that can exploit the\n",
    "largest HPC resources and emerging computing architectures. \"\"\"\n"
   ]
  },
  {
   "cell_type": "code",
   "execution_count": 40,
   "metadata": {},
   "outputs": [],
   "source": [
    "#Separo el titulo y el resumen\n",
    "title, resume= article.split('resumen:')\n"
   ]
  },
  {
   "cell_type": "code",
   "execution_count": 41,
   "metadata": {},
   "outputs": [],
   "source": [
    "#Elimino los caracteres especiales\n",
    "To_replace= ['título' , 'reumen', '\\n', '1', '2', '3', '4', '5', '6','7', '8', '9']\n",
    "for character in To_replace:\n",
    "    title= title.replace(character, '')\n",
    "    resume= resume.replace(character, '')"
   ]
  },
  {
   "cell_type": "code",
   "execution_count": 42,
   "metadata": {},
   "outputs": [],
   "source": [
    "#creo una lista para comparar la cantidad de palabras\n",
    "title_list= title.split()\n",
    "resume_list= resume.split(\".\")"
   ]
  },
  {
   "cell_type": "code",
   "execution_count": null,
   "metadata": {},
   "outputs": [],
   "source": [
    "if(len(title_list) > 10):\n",
    "    print(\"titulo : not ok\")\n",
    "else:\n",
    "    print(\"titulo : ok\")\n",
    "\n",
    "easy= 0\n",
    "acceptable= 0\n",
    "difficult= 0\n",
    "very_difficult= 0\n",
    "\n",
    "for line in resume_list:\n",
    "    cantWords= line.split()\n",
    "    if(len(cantWords) <= 12):\n",
    "        easy +=1\n",
    "    elif (len(cantWords) <= 17):\n",
    "        acceptable +=1\n",
    "    elif(len(cantWords) <= 25):\n",
    "        difficult +=1\n",
    "    else:\n",
    "        very_difficult +=1\n",
    "\n",
    "print(f\"\"\"Cantidad de oraciones fáciles de leer: {easy}, aceptables para leer: {acceptable}, dificil de leer: {difficult},\n",
    "muy difícil de leer: {very_difficult}\"\"\")"
   ]
  }
 ],
 "metadata": {
  "kernelspec": {
   "display_name": "Python 3 (ipykernel)",
   "language": "python",
   "name": "python3"
  },
  "language_info": {
   "codemirror_mode": {
    "name": "ipython",
    "version": 3
   },
   "file_extension": ".py",
   "mimetype": "text/x-python",
   "name": "python",
   "nbconvert_exporter": "python",
   "pygments_lexer": "ipython3",
   "version": "3.11.7"
  }
 },
 "nbformat": 4,
 "nbformat_minor": 4
}
