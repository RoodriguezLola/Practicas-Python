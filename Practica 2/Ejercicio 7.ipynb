{
 "cells": [
  {
   "cell_type": "markdown",
   "metadata": {},
   "source": [
    "Enunciado:\n",
    "\n",
    "7. Dada una frase contar mayúsculas, minúsculas, caracteres no letras y la cantidad de\n",
    "palabras sin distinguir entre mayúsculas y minúsculas."
   ]
  },
  {
   "cell_type": "code",
   "execution_count": null,
   "metadata": {},
   "outputs": [],
   "source": [
    "text = \"\"\" La brecha salarial alcanzó el 27,7%: las mujeres ocupadas\n",
    "debieron trabajar 8 días y 10 horas más que los varones ocupados para\n",
    "ganar lo mismo que ellos en un mes. \"\"\""
   ]
  },
  {
   "cell_type": "code",
   "execution_count": null,
   "metadata": {},
   "outputs": [],
   "source": [
    "import string\n",
    "\n",
    "words= text.split()\n",
    "print(f'La cantidad de palabras del texto es: {len(words)}')"
   ]
  },
  {
   "cell_type": "code",
   "execution_count": null,
   "metadata": {},
   "outputs": [],
   "source": [
    "lowercas= 0\n",
    "capital_letters= 0\n",
    "characters= 0\n",
    "\n",
    "for word in words:\n",
    "    letters= list(word)\n",
    "    for letter in letters:\n",
    "        if (letter in string.ascii_lowercase):\n",
    "            lowercas +=1\n",
    "        elif(letter in string.ascii_uppercase):\n",
    "            capital_letters +=1\n",
    "        elif(letter in string.punctuation or letter in string.digits):\n",
    "            characters +=1\n",
    "\n",
    "print(f'La cantidad de letras minusculas es: {lowercas}, La cantidad de letras mayusculas es: {capital_letters} y la cantidad de caracteres no letras es: {characters}')"
   ]
  }
 ],
 "metadata": {
  "kernelspec": {
   "display_name": "Python 3 (ipykernel)",
   "language": "python",
   "name": "python3"
  },
  "language_info": {
   "codemirror_mode": {
    "name": "ipython",
    "version": 3
   },
   "file_extension": ".py",
   "mimetype": "text/x-python",
   "name": "python",
   "nbconvert_exporter": "python",
   "pygments_lexer": "ipython3",
   "version": "3.11.7"
  }
 },
 "nbformat": 4,
 "nbformat_minor": 4
}
