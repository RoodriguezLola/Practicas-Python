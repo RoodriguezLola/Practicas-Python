{
 "cells": [
  {
   "cell_type": "markdown",
   "id": "fcb55b79-7803-477e-8c40-754c10171d79",
   "metadata": {},
   "source": [
    "Enunciado:\n",
    "    \n",
    "    8. Escriba un programa que solicite que se ingrese una palabra o frase y permita identificar si la misma es un Heterograma\n",
    "    "
   ]
  },
  {
   "cell_type": "code",
   "execution_count": 34,
   "id": "88439ccb-d2bc-466b-ac6b-a6a97b95aa00",
   "metadata": {},
   "outputs": [],
   "source": [
    "word_pharase= input('Ingrese una palabra o una frase: ')"
   ]
  },
  {
   "cell_type": "code",
   "execution_count": 35,
   "id": "6079fba6",
   "metadata": {},
   "outputs": [
    {
     "name": "stdout",
     "output_type": "stream",
     "text": [
      "['Manzana']\n",
      "['Manzana']\n",
      "Manzana\n",
      "La palabra o frase si es un heterograma\n"
     ]
    }
   ],
   "source": [
    "heterogram= True\n",
    "word_pharase= word_pharase.split(\" \")\n",
    "print(word_pharase)\n",
    "\n",
    " #revisar no funciona\n",
    "if len(word_pharase)== 1:\n",
    "    word = \" \".join(word_pharase)\n",
    "    for letter in word:\n",
    "        cant = word.count(letter)\n",
    "        if cant > 1:\n",
    "            heterogram= False\n",
    "            break\n",
    "else:\n",
    "    for word in word_pharase:\n",
    "        for letter in word:\n",
    "            cant = word.count(letter)\n",
    "            if cant > 1:\n",
    "                heterogram= False\n",
    "                break\n",
    "        if not heterogram:\n",
    "            break\n",
    "\n",
    "if not heterogram:\n",
    "    print(heterogram)\n",
    "    print('La palabra o frase no es un heterograma')\n",
    "else:\n",
    "    print('La palabra o frase si es un heterograma')"
   ]
  }
 ],
 "metadata": {
  "kernelspec": {
   "display_name": "Python 3 (ipykernel)",
   "language": "python",
   "name": "python3"
  },
  "language_info": {
   "codemirror_mode": {
    "name": "ipython",
    "version": 3
   },
   "file_extension": ".py",
   "mimetype": "text/x-python",
   "name": "python",
   "nbconvert_exporter": "python",
   "pygments_lexer": "ipython3",
   "version": "3.11.7"
  }
 },
 "nbformat": 4,
 "nbformat_minor": 5
}
