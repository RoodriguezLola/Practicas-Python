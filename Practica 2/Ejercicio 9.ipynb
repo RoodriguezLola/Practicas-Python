{
 "cells": [
  {
   "cell_type": "markdown",
   "metadata": {},
   "source": [
    "Enunciado:\n",
    "\n",
    "9. Escriba un programa que solicite por teclado una palabra y calcule el valor de la misma\n",
    "dada la siguiente tabla de valores del juego Scrabble"
   ]
  },
  {
   "cell_type": "code",
   "execution_count": 7,
   "metadata": {},
   "outputs": [],
   "source": [
    "word= input(\"Ingrese una palabra: \").lower()"
   ]
  },
  {
   "cell_type": "code",
   "execution_count": null,
   "metadata": {},
   "outputs": [],
   "source": [
    "one_points= ['a', 'e', 'i', 'o', 'u', 'l', 'n', 'r', 's', 't']\n",
    "three_points = ['b', 'c', 'm', 'p']\n",
    "four_points = ['f', 'h', 'w', 'v', 'y']\n",
    "\n",
    "worth= 0\n",
    "\n",
    "for letter in word:\n",
    "    if letter in one_points:\n",
    "        worth +=1\n",
    "    elif letter == 'd' or letter == 'g':\n",
    "        worth +=2\n",
    "    elif letter in three_points:\n",
    "        worth +=3\n",
    "    elif letter in four_points:\n",
    "        worth +=4\n",
    "    elif letter == 'k':\n",
    "        worth +=5\n",
    "    elif letter == 'j' or letter == 'x':\n",
    "        worth += 8\n",
    "    elif letter == 'z':\n",
    "        worth += 10\n",
    "\n",
    "print(f'El valor de la palabra es: {worth}')"
   ]
  }
 ],
 "metadata": {
  "kernelspec": {
   "display_name": "venv",
   "language": "python",
   "name": "python3"
  },
  "language_info": {
   "codemirror_mode": {
    "name": "ipython",
    "version": 3
   },
   "file_extension": ".py",
   "mimetype": "text/x-python",
   "name": "python",
   "nbconvert_exporter": "python",
   "pygments_lexer": "ipython3",
   "version": "3.11.7"
  }
 },
 "nbformat": 4,
 "nbformat_minor": 2
}
